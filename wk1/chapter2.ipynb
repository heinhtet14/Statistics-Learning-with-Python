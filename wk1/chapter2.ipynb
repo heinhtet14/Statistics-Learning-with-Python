{
 "cells": [
  {
   "cell_type": "markdown",
   "metadata": {},
   "source": [
    "For this week, there is no heavy task. I will update some the fundamentals of Statistical Learning, Supervised vs Unsupervised Learnings, Regression vs Classification problems.  I will update the code and notes daily and will try to cover one chapter per week."
   ]
  },
  {
   "cell_type": "markdown",
   "metadata": {},
   "source": []
  }
 ],
 "metadata": {
  "language_info": {
   "name": "python"
  }
 },
 "nbformat": 4,
 "nbformat_minor": 2
}
